{
 "cells": [
  {
   "cell_type": "code",
   "execution_count": null,
   "id": "f38769ea-cb95-4ab1-a5e1-6c0da81713a1",
   "metadata": {},
   "outputs": [],
   "source": [
    "import pandas as pd\n",
    "\n",
    "# Load the dataset\n",
    "file_path = r\"C:\\Users\\Vasilis\\Desktop\\Github\\Sleep and Health Lifestyle\\2. Data\\Sleep_health_and_lifestyle_dataset.csv\"\n",
    "df = pd.read_csv(file_path)\n",
    "\n",
    "# Display the first few rows\n",
    "df.head()\n",
    "df.info()\n",
    "\n",
    "# Step 1: Split 'Blood Pressure' into two columns\n",
    "df[['Systolic Blood Pressure', 'Diastolic Blood Pressure']] = df['Blood Pressure'].str.split('/', expand=True)\n",
    "df['Systolic Blood Pressure'] = pd.to_numeric(df['Systolic Blood Pressure'])\n",
    "df['Diastolic Blood Pressure'] = pd.to_numeric(df['Diastolic Blood Pressure'])\n",
    "\n",
    "# Step 2: Ensure 'Quality of Sleep' does not exceed 'Sleep Duration'\n",
    "df['Effective Sleep'] = df[['Quality of Sleep', 'Sleep Duration']].min(axis=1)\n",
    "\n",
    "# Step 3: Calculate Sleep Efficiency as (Effective Sleep / Sleep Duration) * 100\n",
    "df['Sleep Efficiency (%)'] = (df['Effective Sleep'] / df['Sleep Duration']) * 100\n",
    "\n",
    "# Drop the temporary 'Effective Sleep' column (optional)\n",
    "df.drop(columns=['Effective Sleep'], inplace=True)\n",
    "\n",
    "# Check for any efficiency values greater than 100% (should be none now)\n",
    "assert (df['Sleep Efficiency (%)'] <= 100).all(), \"There are still values above 100%!\"\n",
    "print(\"Sleep Efficiency KPI successfully calculated.\")\n",
    "\n",
    "# Display the first few rows to confirm the changes\n",
    "print(df.head())\n",
    "\n",
    "# Export the cleaned dataset to the specified folder\n",
    "output_path = r\"C:\\Users\\vange\\Desktop\\github project 2\\3. Cleaning\\cleaned_sleep_health_dataset.csv\"\n",
    "df.to_csv(output_path, index=False)\n",
    "\n",
    "print(f\"Cleaned file saved to {output_path}\")\n"
   ]
  },
  {
   "cell_type": "code",
   "execution_count": null,
   "id": "9dbc4de8-3992-4c29-b3f8-efbfed94870a",
   "metadata": {},
   "outputs": [],
   "source": []
  },
  {
   "cell_type": "code",
   "execution_count": null,
   "id": "a97bfb65-9716-4162-b081-1a9f64ad0414",
   "metadata": {},
   "outputs": [],
   "source": []
  },
  {
   "cell_type": "code",
   "execution_count": null,
   "id": "367efc02-c652-4dae-88b0-d175a89b832c",
   "metadata": {},
   "outputs": [],
   "source": []
  },
  {
   "cell_type": "code",
   "execution_count": null,
   "id": "6865a9c3-f6cc-4445-9173-2c2e7d465edf",
   "metadata": {},
   "outputs": [],
   "source": []
  },
  {
   "cell_type": "code",
   "execution_count": null,
   "id": "1a382498-6d11-4fbc-a3df-ae613f07e110",
   "metadata": {},
   "outputs": [],
   "source": []
  },
  {
   "cell_type": "code",
   "execution_count": null,
   "id": "8c249b4b-2347-458f-861c-3ebf144817ce",
   "metadata": {},
   "outputs": [],
   "source": []
  },
  {
   "cell_type": "code",
   "execution_count": null,
   "id": "f6468217-db99-422d-8079-953a413020ed",
   "metadata": {},
   "outputs": [],
   "source": []
  }
 ],
 "metadata": {
  "kernelspec": {
   "display_name": "Python 3 (ipykernel)",
   "language": "python",
   "name": "python3"
  },
  "language_info": {
   "codemirror_mode": {
    "name": "ipython",
    "version": 3
   },
   "file_extension": ".py",
   "mimetype": "text/x-python",
   "name": "python",
   "nbconvert_exporter": "python",
   "pygments_lexer": "ipython3",
   "version": "3.11.5"
  }
 },
 "nbformat": 4,
 "nbformat_minor": 5
}
