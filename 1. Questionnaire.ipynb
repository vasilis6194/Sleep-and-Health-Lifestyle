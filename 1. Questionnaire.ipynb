{
 "cells": [
  {
   "cell_type": "markdown",
   "id": "e0b2df75",
   "metadata": {},
   "source": [
    "# **Sleep & Health Lifestyle Metrics Questionnaire**\n",
    "\n",
    "---\n",
    "\n",
    "### **About This Questionnaire**\n",
    "This set of questions is designed to help users navigate the insights provided by the visualizations in the \"Sleep, Health, and Lifestyle Metrics\" project. The questions correspond directly to the data represented in the Power BI dashboards.\n",
    "\n",
    "---\n",
    "\n",
    "## **Demographics**\n",
    "1. What is the gender distribution in the dataset?  \n",
    "2. What percentage of males and females fall into each BMI category (Normal, Overweight, Underweight, Obese)?\n",
    "\n",
    "---\n",
    "\n",
    "## **BMI and Sleep Disorders**\n",
    "3. Which BMI category has the highest prevalence of sleep disorders (e.g., Insomnia, Sleep Apnea)?\n",
    "4. How does the distribution of sleep disorders compare between Normal, Overweight, and Obese individuals?\n",
    "5. What insights can be drawn about individuals with Normal BMI and their likelihood of having sleep disorders?\n",
    "\n",
    "---\n",
    "\n",
    "## **Stress Levels and Lifestyle**\n",
    "6. How does the average stress level differ between individuals with and without sleep disorders?\n",
    "7. Which occupations exhibit the highest average stress levels? How does this correlate with the quality of sleep in these professions?\n",
    "8. What is the relationship between stress levels and physical activity minutes?\n",
    "\n",
    "---\n",
    "\n",
    "## **Heart Rate Insights**\n",
    "9. How does resting heart rate vary among different BMI categories?\n",
    "10. What percentage of individuals in each BMI category have a low, medium, or high resting heart rate?\n",
    "\n",
    "---\n",
    "\n",
    "## **Physical Activity and Stress**\n",
    "11. How does moderate physical activity (e.g., 40-60 minutes) affect stress levels compared to high-intensity activity (>80 minutes)?\n",
    "12. What is the average stress level for individuals who walk 5,000-10,000 steps daily versus those who exceed 10,000 steps?\n",
    "\n",
    "---\n",
    "\n",
    "## **General Observations**\n",
    "13. Which gender shows higher stress levels at extreme levels of stress (e.g., stress level 8)?\n",
    "14. How does BMI correlate with average stress levels?\n",
    "15. What additional insights about sleep, health, and lifestyle can be deduced from the dataset?\n",
    "\n",
    "---\n",
    "\n",
    "> *Thank you for completing this questionnaire! Use these questions as a guide to better understand the metrics and relationships revealed in the project.*\n"
   ]
  }
 ],
 "metadata": {
  "kernelspec": {
   "display_name": "Python 3 (ipykernel)",
   "language": "python",
   "name": "python3"
  },
  "language_info": {
   "codemirror_mode": {
    "name": "ipython",
    "version": 3
   },
   "file_extension": ".py",
   "mimetype": "text/x-python",
   "name": "python",
   "nbconvert_exporter": "python",
   "pygments_lexer": "ipython3",
   "version": "3.12.3"
  }
 },
 "nbformat": 4,
 "nbformat_minor": 5
}
